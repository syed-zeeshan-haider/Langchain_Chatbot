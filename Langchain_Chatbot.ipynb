{
  "nbformat": 4,
  "nbformat_minor": 0,
  "metadata": {
    "colab": {
      "provenance": [],
      "gpuType": "T4",
      "authorship_tag": "ABX9TyPbPG/ov3NU7WyYe6zjn7xL",
      "include_colab_link": true
    },
    "kernelspec": {
      "name": "python3",
      "display_name": "Python 3"
    },
    "language_info": {
      "name": "python"
    },
    "accelerator": "GPU"
  },
  "cells": [
    {
      "cell_type": "markdown",
      "metadata": {
        "id": "view-in-github",
        "colab_type": "text"
      },
      "source": [
        "<a href=\"https://colab.research.google.com/github/syed-zeeshan-haider/Langchain_Chatbot/blob/main/Langchain_Chatbot.ipynb\" target=\"_parent\"><img src=\"https://colab.research.google.com/assets/colab-badge.svg\" alt=\"Open In Colab\"/></a>"
      ]
    },
    {
      "cell_type": "code",
      "source": [
        "from google.colab import userdata\n",
        "GEMINI_API_KEY = userdata.get('GOOGLE_API_KEY')"
      ],
      "metadata": {
        "id": "2wz-a_LzsQWv"
      },
      "execution_count": 7,
      "outputs": []
    },
    {
      "cell_type": "code",
      "source": [
        "pip install langchain_google_genai"
      ],
      "metadata": {
        "colab": {
          "base_uri": "https://localhost:8080/"
        },
        "collapsed": true,
        "id": "9kG2cbNE4FNu",
        "outputId": "1860eeba-4b14-4cf4-bb26-1ec0b95eea99"
      },
      "execution_count": 8,
      "outputs": [
        {
          "output_type": "stream",
          "name": "stdout",
          "text": [
            "Requirement already satisfied: langchain_google_genai in /usr/local/lib/python3.10/dist-packages (2.0.7)\n",
            "Requirement already satisfied: filetype<2.0.0,>=1.2.0 in /usr/local/lib/python3.10/dist-packages (from langchain_google_genai) (1.2.0)\n",
            "Requirement already satisfied: google-generativeai<0.9.0,>=0.8.0 in /usr/local/lib/python3.10/dist-packages (from langchain_google_genai) (0.8.3)\n",
            "Requirement already satisfied: langchain-core<0.4,>=0.3.15 in /usr/local/lib/python3.10/dist-packages (from langchain_google_genai) (0.3.25)\n",
            "Requirement already satisfied: pydantic<3,>=2 in /usr/local/lib/python3.10/dist-packages (from langchain_google_genai) (2.10.3)\n",
            "Requirement already satisfied: google-ai-generativelanguage==0.6.10 in /usr/local/lib/python3.10/dist-packages (from google-generativeai<0.9.0,>=0.8.0->langchain_google_genai) (0.6.10)\n",
            "Requirement already satisfied: google-api-core in /usr/local/lib/python3.10/dist-packages (from google-generativeai<0.9.0,>=0.8.0->langchain_google_genai) (2.19.2)\n",
            "Requirement already satisfied: google-api-python-client in /usr/local/lib/python3.10/dist-packages (from google-generativeai<0.9.0,>=0.8.0->langchain_google_genai) (2.155.0)\n",
            "Requirement already satisfied: google-auth>=2.15.0 in /usr/local/lib/python3.10/dist-packages (from google-generativeai<0.9.0,>=0.8.0->langchain_google_genai) (2.27.0)\n",
            "Requirement already satisfied: protobuf in /usr/local/lib/python3.10/dist-packages (from google-generativeai<0.9.0,>=0.8.0->langchain_google_genai) (4.25.5)\n",
            "Requirement already satisfied: tqdm in /usr/local/lib/python3.10/dist-packages (from google-generativeai<0.9.0,>=0.8.0->langchain_google_genai) (4.67.1)\n",
            "Requirement already satisfied: typing-extensions in /usr/local/lib/python3.10/dist-packages (from google-generativeai<0.9.0,>=0.8.0->langchain_google_genai) (4.12.2)\n",
            "Requirement already satisfied: proto-plus<2.0.0dev,>=1.22.3 in /usr/local/lib/python3.10/dist-packages (from google-ai-generativelanguage==0.6.10->google-generativeai<0.9.0,>=0.8.0->langchain_google_genai) (1.25.0)\n",
            "Requirement already satisfied: PyYAML>=5.3 in /usr/local/lib/python3.10/dist-packages (from langchain-core<0.4,>=0.3.15->langchain_google_genai) (6.0.2)\n",
            "Requirement already satisfied: jsonpatch<2.0,>=1.33 in /usr/local/lib/python3.10/dist-packages (from langchain-core<0.4,>=0.3.15->langchain_google_genai) (1.33)\n",
            "Requirement already satisfied: langsmith<0.3,>=0.1.125 in /usr/local/lib/python3.10/dist-packages (from langchain-core<0.4,>=0.3.15->langchain_google_genai) (0.2.3)\n",
            "Requirement already satisfied: packaging<25,>=23.2 in /usr/local/lib/python3.10/dist-packages (from langchain-core<0.4,>=0.3.15->langchain_google_genai) (24.2)\n",
            "Requirement already satisfied: tenacity!=8.4.0,<10.0.0,>=8.1.0 in /usr/local/lib/python3.10/dist-packages (from langchain-core<0.4,>=0.3.15->langchain_google_genai) (9.0.0)\n",
            "Requirement already satisfied: annotated-types>=0.6.0 in /usr/local/lib/python3.10/dist-packages (from pydantic<3,>=2->langchain_google_genai) (0.7.0)\n",
            "Requirement already satisfied: pydantic-core==2.27.1 in /usr/local/lib/python3.10/dist-packages (from pydantic<3,>=2->langchain_google_genai) (2.27.1)\n",
            "Requirement already satisfied: googleapis-common-protos<2.0.dev0,>=1.56.2 in /usr/local/lib/python3.10/dist-packages (from google-api-core->google-generativeai<0.9.0,>=0.8.0->langchain_google_genai) (1.66.0)\n",
            "Requirement already satisfied: requests<3.0.0.dev0,>=2.18.0 in /usr/local/lib/python3.10/dist-packages (from google-api-core->google-generativeai<0.9.0,>=0.8.0->langchain_google_genai) (2.32.3)\n",
            "Requirement already satisfied: cachetools<6.0,>=2.0.0 in /usr/local/lib/python3.10/dist-packages (from google-auth>=2.15.0->google-generativeai<0.9.0,>=0.8.0->langchain_google_genai) (5.5.0)\n",
            "Requirement already satisfied: pyasn1-modules>=0.2.1 in /usr/local/lib/python3.10/dist-packages (from google-auth>=2.15.0->google-generativeai<0.9.0,>=0.8.0->langchain_google_genai) (0.4.1)\n",
            "Requirement already satisfied: rsa<5,>=3.1.4 in /usr/local/lib/python3.10/dist-packages (from google-auth>=2.15.0->google-generativeai<0.9.0,>=0.8.0->langchain_google_genai) (4.9)\n",
            "Requirement already satisfied: jsonpointer>=1.9 in /usr/local/lib/python3.10/dist-packages (from jsonpatch<2.0,>=1.33->langchain-core<0.4,>=0.3.15->langchain_google_genai) (3.0.0)\n",
            "Requirement already satisfied: httpx<1,>=0.23.0 in /usr/local/lib/python3.10/dist-packages (from langsmith<0.3,>=0.1.125->langchain-core<0.4,>=0.3.15->langchain_google_genai) (0.28.1)\n",
            "Requirement already satisfied: orjson<4.0.0,>=3.9.14 in /usr/local/lib/python3.10/dist-packages (from langsmith<0.3,>=0.1.125->langchain-core<0.4,>=0.3.15->langchain_google_genai) (3.10.12)\n",
            "Requirement already satisfied: requests-toolbelt<2.0.0,>=1.0.0 in /usr/local/lib/python3.10/dist-packages (from langsmith<0.3,>=0.1.125->langchain-core<0.4,>=0.3.15->langchain_google_genai) (1.0.0)\n",
            "Requirement already satisfied: httplib2<1.dev0,>=0.19.0 in /usr/local/lib/python3.10/dist-packages (from google-api-python-client->google-generativeai<0.9.0,>=0.8.0->langchain_google_genai) (0.22.0)\n",
            "Requirement already satisfied: google-auth-httplib2<1.0.0,>=0.2.0 in /usr/local/lib/python3.10/dist-packages (from google-api-python-client->google-generativeai<0.9.0,>=0.8.0->langchain_google_genai) (0.2.0)\n",
            "Requirement already satisfied: uritemplate<5,>=3.0.1 in /usr/local/lib/python3.10/dist-packages (from google-api-python-client->google-generativeai<0.9.0,>=0.8.0->langchain_google_genai) (4.1.1)\n",
            "Requirement already satisfied: grpcio<2.0dev,>=1.33.2 in /usr/local/lib/python3.10/dist-packages (from google-api-core[grpc]!=2.0.*,!=2.1.*,!=2.10.*,!=2.2.*,!=2.3.*,!=2.4.*,!=2.5.*,!=2.6.*,!=2.7.*,!=2.8.*,!=2.9.*,<3.0.0dev,>=1.34.1->google-ai-generativelanguage==0.6.10->google-generativeai<0.9.0,>=0.8.0->langchain_google_genai) (1.68.1)\n",
            "Requirement already satisfied: grpcio-status<2.0.dev0,>=1.33.2 in /usr/local/lib/python3.10/dist-packages (from google-api-core[grpc]!=2.0.*,!=2.1.*,!=2.10.*,!=2.2.*,!=2.3.*,!=2.4.*,!=2.5.*,!=2.6.*,!=2.7.*,!=2.8.*,!=2.9.*,<3.0.0dev,>=1.34.1->google-ai-generativelanguage==0.6.10->google-generativeai<0.9.0,>=0.8.0->langchain_google_genai) (1.62.3)\n",
            "Requirement already satisfied: pyparsing!=3.0.0,!=3.0.1,!=3.0.2,!=3.0.3,<4,>=2.4.2 in /usr/local/lib/python3.10/dist-packages (from httplib2<1.dev0,>=0.19.0->google-api-python-client->google-generativeai<0.9.0,>=0.8.0->langchain_google_genai) (3.2.0)\n",
            "Requirement already satisfied: anyio in /usr/local/lib/python3.10/dist-packages (from httpx<1,>=0.23.0->langsmith<0.3,>=0.1.125->langchain-core<0.4,>=0.3.15->langchain_google_genai) (3.7.1)\n",
            "Requirement already satisfied: certifi in /usr/local/lib/python3.10/dist-packages (from httpx<1,>=0.23.0->langsmith<0.3,>=0.1.125->langchain-core<0.4,>=0.3.15->langchain_google_genai) (2024.12.14)\n",
            "Requirement already satisfied: httpcore==1.* in /usr/local/lib/python3.10/dist-packages (from httpx<1,>=0.23.0->langsmith<0.3,>=0.1.125->langchain-core<0.4,>=0.3.15->langchain_google_genai) (1.0.7)\n",
            "Requirement already satisfied: idna in /usr/local/lib/python3.10/dist-packages (from httpx<1,>=0.23.0->langsmith<0.3,>=0.1.125->langchain-core<0.4,>=0.3.15->langchain_google_genai) (3.10)\n",
            "Requirement already satisfied: h11<0.15,>=0.13 in /usr/local/lib/python3.10/dist-packages (from httpcore==1.*->httpx<1,>=0.23.0->langsmith<0.3,>=0.1.125->langchain-core<0.4,>=0.3.15->langchain_google_genai) (0.14.0)\n",
            "Requirement already satisfied: pyasn1<0.7.0,>=0.4.6 in /usr/local/lib/python3.10/dist-packages (from pyasn1-modules>=0.2.1->google-auth>=2.15.0->google-generativeai<0.9.0,>=0.8.0->langchain_google_genai) (0.6.1)\n",
            "Requirement already satisfied: charset-normalizer<4,>=2 in /usr/local/lib/python3.10/dist-packages (from requests<3.0.0.dev0,>=2.18.0->google-api-core->google-generativeai<0.9.0,>=0.8.0->langchain_google_genai) (3.4.0)\n",
            "Requirement already satisfied: urllib3<3,>=1.21.1 in /usr/local/lib/python3.10/dist-packages (from requests<3.0.0.dev0,>=2.18.0->google-api-core->google-generativeai<0.9.0,>=0.8.0->langchain_google_genai) (2.2.3)\n",
            "Requirement already satisfied: sniffio>=1.1 in /usr/local/lib/python3.10/dist-packages (from anyio->httpx<1,>=0.23.0->langsmith<0.3,>=0.1.125->langchain-core<0.4,>=0.3.15->langchain_google_genai) (1.3.1)\n",
            "Requirement already satisfied: exceptiongroup in /usr/local/lib/python3.10/dist-packages (from anyio->httpx<1,>=0.23.0->langsmith<0.3,>=0.1.125->langchain-core<0.4,>=0.3.15->langchain_google_genai) (1.2.2)\n"
          ]
        }
      ]
    },
    {
      "cell_type": "code",
      "source": [
        "from langchain_google_genai import ChatGoogleGenerativeAI"
      ],
      "metadata": {
        "collapsed": true,
        "id": "6HxWDTvN4sz7"
      },
      "execution_count": 9,
      "outputs": []
    },
    {
      "cell_type": "code",
      "source": [
        "from langchain_google_genai import ChatGoogleGenerativeAI\n",
        "from langchain.prompts import PromptTemplate"
      ],
      "metadata": {
        "id": "MGb78wicw__a"
      },
      "execution_count": 10,
      "outputs": []
    },
    {
      "cell_type": "code",
      "source": [
        "first_prompt = PromptTemplate (\n",
        "    input_variables = [\"question\"],\n",
        "    template = \"write five points only {question}?\"\n",
        ")\n",
        "\n",
        "second_prompt = PromptTemplate (\n",
        "    input_variables = [\"first_response\"],\n",
        "    template = \"Explain each point in deatils {question}?\"\n",
        ")\n"
      ],
      "metadata": {
        "id": "0zbVXgoayIQl"
      },
      "execution_count": 11,
      "outputs": []
    },
    {
      "cell_type": "code",
      "source": [
        "# from diffusers import StableDiffusionPipeline\n",
        "# import torch\n",
        "\n",
        "# # Load the model from Hugging Face Hub\n",
        "# model_id = \"runwayml/stable-diffusion-v1-5\"  # Example model\n",
        "# pipe = StableDiffusionPipeline.from_pretrained(model_id, torch_dtype=torch.float16)\n",
        "# pipe = pipe.to(\"cuda\")  # Use GPU if available\n",
        "\n",
        "# # Generate an image\n",
        "# prompt = \"A futuristic cityscape at sunset\"\n",
        "# image = pipe(prompt).images[0]\n",
        "\n",
        "# # Save or display the image\n",
        "# image.save(\"generated_image.png\")\n",
        "# image.show()"
      ],
      "metadata": {
        "id": "q0UnvFdILfVy",
        "collapsed": true
      },
      "execution_count": 12,
      "outputs": []
    },
    {
      "cell_type": "code",
      "source": [
        "# Configure the Gemini Flash model\n",
        "llm = ChatGoogleGenerativeAI(\n",
        "    api_key= GEMINI_API_KEY,\n",
        "    model=\"gemini-1.5-flash\",\n",
        ")"
      ],
      "metadata": {
        "collapsed": true,
        "id": "MSsY70BS7SCV"
      },
      "execution_count": 13,
      "outputs": []
    },
    {
      "cell_type": "markdown",
      "source": [],
      "metadata": {
        "id": "Y7AtG-aT7kkL"
      }
    },
    {
      "cell_type": "code",
      "source": [
        "first_chain = first_prompt | llm\n",
        "second_chain = second_prompt | llm"
      ],
      "metadata": {
        "id": "QS0snxtezisx"
      },
      "execution_count": 14,
      "outputs": []
    },
    {
      "cell_type": "code",
      "source": [
        "first_response = first_chain.invoke({\"question\" : \"what is AI?\"})\n",
        "print(\"First chain response: \", first_response.content)\n",
        "\n",
        "# Pass both 'first_response' and 'question' to the second chain\n",
        "second_response = second_chain.invoke({\"first_response\" : first_response.content, \"question\": \"what is AI?\"})\n",
        "print(\"Second chain   \" , second_response.content) # Print the content of the response, not the chain itself\n"
      ],
      "metadata": {
        "colab": {
          "base_uri": "https://localhost:8080/"
        },
        "collapsed": true,
        "id": "fBC6B9tlCMNb",
        "outputId": "d13dbb87-aa92-4acf-a7e7-2174c94ece8b"
      },
      "execution_count": 17,
      "outputs": [
        {
          "output_type": "stream",
          "name": "stdout",
          "text": [
            "First chain response:  1. AI systems mimic human intelligence: They perform tasks that typically require human intelligence, such as learning, problem-solving, and decision-making.\n",
            "\n",
            "2. AI relies on algorithms and data:  These are the core components enabling AI to learn patterns and make predictions.\n",
            "\n",
            "3. AI encompasses various techniques:  From machine learning and deep learning to expert systems and natural language processing, many approaches fall under the AI umbrella.\n",
            "\n",
            "4. AI applications are diverse:  They range from self-driving cars and medical diagnosis to personalized recommendations and fraud detection.\n",
            "\n",
            "5. AI is constantly evolving:  New techniques and applications are continuously being developed, pushing the boundaries of what's possible.\n",
            "\n",
            "Second chain    Artificial intelligence (AI) is a broad field encompassing the theory and development of computer systems able to perform tasks that normally require human intelligence.  Let's break down the key aspects:\n",
            "\n",
            "**1.  The Goal: Mimicking Human Intelligence**\n",
            "\n",
            "The core aim of AI is to create machines that can *think* and *act* like humans. This isn't about simply replicating human behavior, but about understanding and replicating the underlying cognitive processes that allow us to learn, reason, solve problems, perceive the world, and make decisions.  This includes abilities like:\n",
            "\n",
            "* **Learning:** Acquiring information and rules for using the information.  This can range from memorizing facts (like a database) to learning complex patterns and relationships from data (like a neural network).\n",
            "* **Reasoning:** Using rules and information to reach approximate or definite conclusions. This involves deductive reasoning (drawing specific conclusions from general principles), inductive reasoning (drawing general conclusions from specific observations), and abductive reasoning (finding the most likely explanation for a set of observations).\n",
            "* **Problem-solving:** Finding solutions to complex situations, often involving multiple steps and constraints. This might involve searching through a space of possibilities, applying heuristics (rules of thumb), or employing more sophisticated algorithms.\n",
            "* **Perception:** Interpreting sensory information from the world, such as images, sounds, and text. This involves pattern recognition, object detection, and understanding context.\n",
            "* **Language understanding:** Processing and interpreting human language, including its nuances and ambiguities. This involves natural language processing (NLP), which allows machines to understand, generate, and translate human language.\n",
            "* **Decision-making:** Selecting the best course of action from a set of possibilities, often under uncertainty. This might involve weighing risks and benefits, considering different outcomes, and adapting to new information.\n",
            "\n",
            "\n",
            "**2.  Approaches to AI:**\n",
            "\n",
            "There are several different approaches to building AI systems, each with its own strengths and weaknesses:\n",
            "\n",
            "* **Symbolic AI (or Good Old-Fashioned AI - GOFAI):** This approach relies on explicitly programming rules and knowledge into the system.  Think of expert systems, which codify the knowledge of human experts in a particular domain (e.g., medical diagnosis).  It's brittle – it struggles with situations not explicitly covered by the rules.\n",
            "\n",
            "* **Connectionism (Neural Networks):** This approach uses interconnected nodes (neurons) organized in layers to process information.  These networks learn from data by adjusting the strengths of connections between nodes.  This is the basis of deep learning, which has achieved remarkable success in areas like image recognition and natural language processing.  It's more robust than symbolic AI but can be difficult to understand and interpret.\n",
            "\n",
            "* **Evolutionary Computation:** This approach uses evolutionary algorithms (inspired by natural selection) to optimize AI systems.  It's particularly useful for finding solutions to complex problems where traditional methods might fail.\n",
            "\n",
            "* **Hybrid Approaches:** Many modern AI systems combine different approaches, leveraging the strengths of each. For instance, a system might use a neural network to process sensory data and then use symbolic reasoning to make decisions based on that data.\n",
            "\n",
            "\n",
            "**3.  Types of AI:**\n",
            "\n",
            "AI systems are often categorized by their capabilities:\n",
            "\n",
            "* **Narrow or Weak AI:** This type of AI is designed to perform a specific task, such as playing chess or recommending products.  Most current AI systems fall into this category.\n",
            "\n",
            "* **General or Strong AI:** This hypothetical type of AI would possess human-level intelligence and be capable of performing any intellectual task that a human being can.  We haven't yet achieved this level of AI.\n",
            "\n",
            "* **Super AI:** This hypothetical type of AI would surpass human intelligence in all aspects.  This is largely a topic of science fiction, although it raises important ethical considerations.\n",
            "\n",
            "\n",
            "**4.  Applications of AI:**\n",
            "\n",
            "AI is rapidly transforming many aspects of our lives, with applications in:\n",
            "\n",
            "* **Healthcare:** Diagnosis, drug discovery, personalized medicine.\n",
            "* **Finance:** Fraud detection, algorithmic trading, risk management.\n",
            "* **Transportation:** Self-driving cars, traffic optimization.\n",
            "* **Manufacturing:** Robotics, predictive maintenance.\n",
            "* **Entertainment:** Recommendation systems, game playing.\n",
            "\n",
            "\n",
            "**5.  Ethical Considerations:**\n",
            "\n",
            "The rapid advancement of AI raises several important ethical concerns, including:\n",
            "\n",
            "* **Bias and fairness:** AI systems can inherit and amplify biases present in the data they are trained on, leading to unfair or discriminatory outcomes.\n",
            "* **Privacy:** AI systems often require access to large amounts of personal data, raising concerns about privacy violations.\n",
            "* **Job displacement:** Automation driven by AI could lead to significant job losses in certain sectors.\n",
            "* **Autonomous weapons:** The development of AI-powered weapons raises serious ethical and safety concerns.\n",
            "* **Accountability:** Determining responsibility when AI systems make mistakes or cause harm is a complex issue.\n",
            "\n",
            "\n",
            "Understanding these aspects provides a comprehensive overview of what AI is, its capabilities, limitations, and the crucial ethical considerations surrounding its development and deployment.\n",
            "\n"
          ]
        }
      ]
    }
  ]
}